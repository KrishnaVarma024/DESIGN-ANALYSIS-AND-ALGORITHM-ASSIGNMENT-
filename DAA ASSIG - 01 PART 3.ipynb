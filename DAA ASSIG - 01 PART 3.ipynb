{
 "cells": [
  {
   "cell_type": "code",
   "execution_count": 1,
   "metadata": {},
   "outputs": [
    {
     "name": "stdout",
     "output_type": "stream",
     "text": [
      "Pair found: (8, 2)\n",
      "Pair not found\n"
     ]
    }
   ],
   "source": [
    "# PART - 03 \n",
    "#19CSE302 – Design and Analysis of Algorithms          Lab Assignment 3\n",
    "\n",
    "# Given an unsorted integer array, find a pair with the given sum in it.\n",
    "\n",
    "def find_pair_with_sum(nums, target):\n",
    "    num_dict = {}\n",
    "    \n",
    "    for num in nums:\n",
    "        if target - num in num_dict:\n",
    "            return (target - num, num)\n",
    "        else:\n",
    "            num_dict[num] = target - num\n",
    "    \n",
    "    return None\n",
    "\n",
    "# Example 1\n",
    "nums1 = [8, 7, 2, 5, 3, 1]\n",
    "target1 = 10\n",
    "pair1 = find_pair_with_sum(nums1, target1)\n",
    "if pair1:\n",
    "    print(\"Pair found:\", pair1)\n",
    "else:\n",
    "    print(\"Pair not found\")\n",
    "\n",
    "# Example 2\n",
    "nums2 = [5, 2, 6, 8, 1, 9]\n",
    "target2 = 12\n",
    "pair2 = find_pair_with_sum(nums2, target2)\n",
    "if pair2:\n",
    "    print(\"Pair found:\", pair2)\n",
    "else:\n",
    "    print(\"Pair not found\")\n"
   ]
  },
  {
   "cell_type": "code",
   "execution_count": 2,
   "metadata": {},
   "outputs": [
    {
     "name": "stdout",
     "output_type": "stream",
     "text": [
      "Pair found: (8, 9)\n",
      "Maximum product: 72\n"
     ]
    }
   ],
   "source": [
    "def max_product_pair(nums):\n",
    "    if len(nums) < 2:\n",
    "        return None\n",
    "    \n",
    "    max1 = max2 = float('-inf')\n",
    "    min1 = min2 = float('inf')\n",
    "    \n",
    "    for num in nums:\n",
    "        if num > max1:\n",
    "            max2 = max1\n",
    "            max1 = num\n",
    "        elif num > max2:\n",
    "            max2 = num\n",
    "        \n",
    "        if num < min1:\n",
    "            min2 = min1\n",
    "            min1 = num\n",
    "        elif num < min2:\n",
    "            min2 = num\n",
    "    \n",
    "    if max1 * max2 > min1 * min2:\n",
    "        return (max2, max1)\n",
    "    else:\n",
    "        return (min1, min2)\n",
    "\n",
    "# Example\n",
    "arr = [1, 7, 4, 2, 8, 6, 3, 9, 5]\n",
    "pair = max_product_pair(arr)\n",
    "if pair:\n",
    "    print(\"Pair found:\", pair)\n",
    "    print(\"Maximum product:\", pair[0] * pair[1])\n",
    "else:\n",
    "    print(\"Pair not found\")\n"
   ]
  },
  {
   "cell_type": "code",
   "execution_count": 4,
   "metadata": {},
   "outputs": [
    {
     "name": "stdout",
     "output_type": "stream",
     "text": [
      "Sorted array: [3, 5, 6, 7, 8, 9]\n"
     ]
    }
   ],
   "source": [
    "def find_swapped_elements(nums):\n",
    "    n = len(nums)\n",
    "    first_swapped = None\n",
    "    second_swapped = None\n",
    "    \n",
    "    for i in range(n - 1):\n",
    "        if nums[i] > nums[i + 1]:\n",
    "            if first_swapped is None:\n",
    "                first_swapped = i\n",
    "            else:\n",
    "                second_swapped = i + 1\n",
    "    \n",
    "   \n",
    "    if second_swapped is None:\n",
    "        second_swapped = first_swapped + 1\n",
    "    \n",
    "    return first_swapped, second_swapped\n",
    "\n",
    "def sort_array(nums):\n",
    "    first_swapped, second_swapped = find_swapped_elements(nums)\n",
    "    \n",
    "\n",
    "    nums[first_swapped], nums[second_swapped] = nums[second_swapped], nums[first_swapped]\n",
    "    \n",
    "    return nums\n",
    "\n",
    "# Example\n",
    "arr = [3, 8, 6, 7, 5, 9]\n",
    "sorted_arr = sort_array(arr)\n",
    "print(\"Sorted array:\", sorted_arr)"
   ]
  },
  {
   "cell_type": "code",
   "execution_count": 5,
   "metadata": {},
   "outputs": [
    {
     "name": "stdout",
     "output_type": "stream",
     "text": [
      "Output array: [0, 0, 0, 0, 0, 1, 1, 1, 1, 1]\n"
     ]
    }
   ],
   "source": [
    "def segregate_zeros_and_ones(arr):\n",
    "    left = 0  \n",
    "    right = len(arr) - 1  \n",
    "    \n",
    "    while left < right:\n",
    "   \n",
    "        while arr[left] == 0 and left < right:\n",
    "            left += 1\n",
    "        \n",
    "       \n",
    "        while arr[right] == 1 and left < right:\n",
    "            right -= 1\n",
    "        \n",
    "        arr[left], arr[right] = arr[right], arr[left]\n",
    "        \n",
    "        left += 1\n",
    "        right -= 1\n",
    "    \n",
    "    return arr\n",
    "\n",
    "# Example\n",
    "arr = [0, 1, 0, 1, 0, 0, 1, 1, 1, 0]\n",
    "segregated_arr = segregate_zeros_and_ones(arr)\n",
    "print(\"Output array:\", segregated_arr)\n"
   ]
  },
  {
   "cell_type": "code",
   "execution_count": 6,
   "metadata": {},
   "outputs": [
    {
     "name": "stdout",
     "output_type": "stream",
     "text": [
      "Total count of inversions: 8\n"
     ]
    }
   ],
   "source": [
    "def merge(arr, left, mid, right):\n",
    "    inv_count = 0\n",
    "    n1 = mid - left + 1\n",
    "    n2 = right - mid\n",
    "    \n",
    "   \n",
    "    L = arr[left:left + n1]\n",
    "    R = arr[mid + 1:mid + 1 + n2]\n",
    "    \n",
    "    i = j = 0\n",
    "    k = left\n",
    "    \n",
    "    while i < n1 and j < n2:\n",
    "        if L[i] <= R[j]:\n",
    "            arr[k] = L[i]\n",
    "            i += 1\n",
    "        else:\n",
    "            arr[k] = R[j]\n",
    "            j += 1\n",
    "            inv_count += (n1 - i)  \n",
    "            \n",
    "        k += 1\n",
    "    \n",
    "\n",
    "    while i < n1:\n",
    "        arr[k] = L[i]\n",
    "        i += 1\n",
    "        k += 1\n",
    "    \n",
    "    while j < n2:\n",
    "        arr[k] = R[j]\n",
    "        j += 1\n",
    "        k += 1\n",
    "    \n",
    "    return inv_count\n",
    "\n",
    "def merge_sort(arr, left, right):\n",
    "    inv_count = 0\n",
    "    if left < right:\n",
    "        mid = (left + right) // 2\n",
    "        \n",
    "        inv_count += merge_sort(arr, left, mid)\n",
    "    \n",
    "        inv_count += merge_sort(arr, mid + 1, right)\n",
    "       \n",
    "        inv_count += merge(arr, left, mid, right)\n",
    "    \n",
    "    return inv_count\n",
    "\n",
    "def inversion_count(arr):\n",
    "    n = len(arr)\n",
    "    return merge_sort(arr, 0, n - 1)\n",
    "\n",
    "# Example\n",
    "A = [10, 1, 2, 4, 13, 9, 5]\n",
    "count = inversion_count(A)\n",
    "print(\"Total count of inversions:\", count)\n"
   ]
  },
  {
   "cell_type": "code",
   "execution_count": 7,
   "metadata": {},
   "outputs": [
    {
     "name": "stdout",
     "output_type": "stream",
     "text": [
      "True\n"
     ]
    }
   ],
   "source": [
    "# 6A. 𝑂(𝑛^2) ALGORITHM:\n",
    "def has_pair_with_sum(arr, K):\n",
    "    n = len(arr)\n",
    "    for i in range(n):\n",
    "        for j in range(i + 1, n):\n",
    "            if arr[i] + arr[j] == K:\n",
    "                return True\n",
    "    return False\n",
    "\n",
    "# Example usage\n",
    "arr = [8, 4, 1, 6]\n",
    "K = 10\n",
    "print(has_pair_with_sum(arr, K))"
   ]
  },
  {
   "cell_type": "code",
   "execution_count": 8,
   "metadata": {},
   "outputs": [
    {
     "name": "stdout",
     "output_type": "stream",
     "text": [
      "True\n"
     ]
    }
   ],
   "source": [
    "# 6B. 𝑂(𝑛𝑙𝑜𝑔𝑛) ALGORITHM:\n",
    "\n",
    "def has_pair_with_sum(arr, K):\n",
    "    arr.sort()  \n",
    "    \n",
    "    left = 0\n",
    "    right = len(arr) - 1\n",
    "    \n",
    "    while left < right:\n",
    "        current_sum = arr[left] + arr[right]\n",
    "        if current_sum == K:\n",
    "            return True\n",
    "        elif current_sum < K:\n",
    "            left += 1\n",
    "        else:\n",
    "            right -= 1\n",
    "    \n",
    "    return False\n",
    "\n",
    "# Example usage\n",
    "arr = [8, 4, 1, 6]\n",
    "K = 10\n",
    "print(has_pair_with_sum(arr, K))  \n"
   ]
  }
 ],
 "metadata": {
  "kernelspec": {
   "display_name": "Python 3",
   "language": "python",
   "name": "python3"
  },
  "language_info": {
   "codemirror_mode": {
    "name": "ipython",
    "version": 3
   },
   "file_extension": ".py",
   "mimetype": "text/x-python",
   "name": "python",
   "nbconvert_exporter": "python",
   "pygments_lexer": "ipython3",
   "version": "3.11.7"
  }
 },
 "nbformat": 4,
 "nbformat_minor": 2
}
